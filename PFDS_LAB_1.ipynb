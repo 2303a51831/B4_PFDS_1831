{
  "nbformat": 4,
  "nbformat_minor": 0,
  "metadata": {
    "colab": {
      "provenance": [],
      "authorship_tag": "ABX9TyOG5BCandMObJzkuTbS7rgt",
      "include_colab_link": true
    },
    "kernelspec": {
      "name": "python3",
      "display_name": "Python 3"
    },
    "language_info": {
      "name": "python"
    }
  },
  "cells": [
    {
      "cell_type": "markdown",
      "metadata": {
        "id": "view-in-github",
        "colab_type": "text"
      },
      "source": [
        "<a href=\"https://colab.research.google.com/github/2303a51831/B4_PFDS_1831/blob/main/PFDS_LAB_1.ipynb\" target=\"_parent\"><img src=\"https://colab.research.google.com/assets/colab-badge.svg\" alt=\"Open In Colab\"/></a>"
      ]
    },
    {
      "cell_type": "code",
      "execution_count": 15,
      "metadata": {
        "colab": {
          "base_uri": "https://localhost:8080/"
        },
        "id": "I3cVlFK2-yfz",
        "outputId": "b62474c4-f0bf-4f8c-8e69-91cef6c52d88"
      },
      "outputs": [
        {
          "output_type": "stream",
          "name": "stdout",
          "text": [
            "Enter a number (0 to 10): 10\n",
            "\n",
            "Starting factorial of 10\n",
            "\n",
            "factorial(10) called\n",
            "factorial(9) called\n",
            "factorial(8) called\n",
            "factorial(7) called\n",
            "factorial(6) called\n",
            "factorial(5) called\n",
            "factorial(4) called\n",
            "factorial(3) called\n",
            "factorial(2) called\n",
            "factorial(1) called\n",
            "Returning 1 (base case)\n",
            "Returning 2 from factorial(2)\n",
            "Returning 6 from factorial(3)\n",
            "Returning 24 from factorial(4)\n",
            "Returning 120 from factorial(5)\n",
            "Returning 720 from factorial(6)\n",
            "Returning 5040 from factorial(7)\n",
            "Returning 40320 from factorial(8)\n",
            "Returning 362880 from factorial(9)\n",
            "Returning 3628800 from factorial(10)\n",
            "\n",
            "Factorial of 10 is: 3628800\n"
          ]
        }
      ],
      "source": [
        "def factorial(n):\n",
        "    print(f\"factorial({n}) called\")\n",
        "\n",
        "    if n == 0 or n == 1:\n",
        "        print(f\"Returning 1 (base case)\")\n",
        "        return 1\n",
        "    else:\n",
        "        result = n * factorial(n - 1)\n",
        "        print(f\"Returning {result} from factorial({n})\")\n",
        "        return result\n",
        "\n",
        "num = int(input(\"Enter a number (0 to 10): \"))\n",
        "if num < 0 or num > 10:\n",
        "    print(\"Please enter a number between 0 and 10\")\n",
        "else:\n",
        "    print(f\"\\nStarting factorial of {num}\\n\")\n",
        "    answer = factorial(num)\n",
        "    print(f\"\\nFactorial of {num} is: {answer}\")"
      ]
    },
    {
      "cell_type": "code",
      "source": [],
      "metadata": {
        "id": "vux3gJYEFO2A"
      },
      "execution_count": null,
      "outputs": []
    }
  ]
}